{
 "cells": [
  {
   "cell_type": "code",
   "execution_count": 1,
   "id": "956d6e92-db35-45b8-a469-7126d225ced2",
   "metadata": {},
   "outputs": [
    {
     "name": "stdout",
     "output_type": "stream",
     "text": [
      "Welcome to Assignment-1\n"
     ]
    }
   ],
   "source": [
    "print(\"Welcome to Assignment-1\")"
   ]
  },
  {
   "cell_type": "code",
   "execution_count": 27,
   "id": "0517bb74-4fe1-40fa-b2fd-5fb344b50a71",
   "metadata": {},
   "outputs": [
    {
     "name": "stdout",
     "output_type": "stream",
     "text": [
      "Num1=10\n",
      "Num2=30\n",
      "Add=40\n"
     ]
    }
   ],
   "source": [
    "num1=10\n",
    "print(\"Num1=10\")\n",
    "num2=30\n",
    "print(\"Num2=30\")\n",
    "add=num1+num2\n",
    "print(\"Add=40\")"
   ]
  },
  {
   "cell_type": "code",
   "execution_count": 9,
   "id": "231a02c8-ad0d-447f-afc2-3e0024cbf329",
   "metadata": {},
   "outputs": [
    {
     "name": "stdout",
     "output_type": "stream",
     "text": [
      "BMI Index Calculator\n"
     ]
    },
    {
     "name": "stdin",
     "output_type": "stream",
     "text": [
      "Enter the BMI Index: 34\n"
     ]
    },
    {
     "name": "stdout",
     "output_type": "stream",
     "text": [
      "Obese\n"
     ]
    }
   ],
   "source": [
    "print(\"BMI Index Calculator\")\n",
    "Value=int(input(\"Enter the BMI Index:\"))\n",
    "if(Value<18.5):\n",
    "    print(\"Under Weight\")\n",
    "elif(Value<24.9):\n",
    "    print(\"Normal\")\n",
    "elif(Value<29.9):\n",
    "    print(\"Over Weight\")\n",
    "elif(Value<39.9):\n",
    "    print(\"Obese\")\n",
    "else:\n",
    "    print(\"Exytremely Obese\")\n"
   ]
  },
  {
   "cell_type": "code",
   "execution_count": null,
   "id": "0dc2afb9-c3a5-4fac-a25c-f0859e120622",
   "metadata": {},
   "outputs": [],
   "source": []
  }
 ],
 "metadata": {
  "kernelspec": {
   "display_name": "Python 3 (ipykernel)",
   "language": "python",
   "name": "python3"
  },
  "language_info": {
   "codemirror_mode": {
    "name": "ipython",
    "version": 3
   },
   "file_extension": ".py",
   "mimetype": "text/x-python",
   "name": "python",
   "nbconvert_exporter": "python",
   "pygments_lexer": "ipython3",
   "version": "3.12.4"
  }
 },
 "nbformat": 4,
 "nbformat_minor": 5
}
